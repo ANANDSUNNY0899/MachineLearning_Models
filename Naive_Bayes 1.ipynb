{
  "nbformat": 4,
  "nbformat_minor": 0,
  "metadata": {
    "colab": {
      "provenance": []
    },
    "kernelspec": {
      "name": "python3",
      "display_name": "Python 3"
    },
    "language_info": {
      "name": "python"
    }
  },
  "cells": [
    {
      "cell_type": "code",
      "execution_count": null,
      "metadata": {
        "colab": {
          "base_uri": "https://localhost:8080/"
        },
        "id": "hxHrsSrx1fIu",
        "outputId": "f36f55f6-dc71-4c8c-d2de-34cef821f6a6"
      },
      "outputs": [
        {
          "output_type": "stream",
          "name": "stdout",
          "text": [
            "Accuracy: 1.00\n",
            "Classification Report:\n",
            "              precision    recall  f1-score   support\n",
            "\n",
            "           0       1.00      1.00      1.00        10\n",
            "           1       1.00      1.00      1.00         9\n",
            "           2       1.00      1.00      1.00        11\n",
            "\n",
            "    accuracy                           1.00        30\n",
            "   macro avg       1.00      1.00      1.00        30\n",
            "weighted avg       1.00      1.00      1.00        30\n",
            "\n"
          ]
        }
      ],
      "source": [
        "import pandas as pd\n",
        "from sklearn.datasets import load_iris\n",
        "from sklearn.model_selection import train_test_split\n",
        "from sklearn.naive_bayes import GaussianNB\n",
        "from sklearn.metrics import accuracy_score, classification_report\n",
        "iris = load_iris()\n",
        "X = iris.data\n",
        "y = iris.target\n",
        "# Split the dataset\n",
        "X_train, X_test, y_train, y_test = train_test_split(X, y, test_size=0.2, random_state=42)\n",
        "# Initialize the Naive Bayes classifier\n",
        "naive_bayes_classifier = GaussianNB()\n",
        "# Train the classifier\n",
        "naive_bayes_classifier.fit(X_train, y_train)\n",
        "# Make predictions on the test set\n",
        "y_pred = naive_bayes_classifier.predict(X_test)\n",
        "# Evaluate the classifier's performance\n",
        "accuracy = accuracy_score(y_test, y_pred)\n",
        "print(f'Accuracy: {accuracy:.2f}')\n",
        "print('Classification Report:')\n",
        "print(classification_report(y_test, y_pred))\n"
      ]
    },
    {
      "cell_type": "code",
      "source": [
        "#Zoo animal classification"
      ],
      "metadata": {
        "id": "YTSOO15opbRb"
      },
      "execution_count": null,
      "outputs": []
    },
    {
      "cell_type": "code",
      "source": [
        "import pandas as pd\n",
        "from sklearn.model_selection import train_test_split\n",
        "from sklearn.naive_bayes import GaussianNB\n",
        "from sklearn.metrics import accuracy_score, classification_report\n",
        "\n",
        "# Load the \"class\" and \"zoo\" datasets\n",
        "zoo_path = '/content/zoo.csv'\n",
        "zoo_df = pd.read_csv(zoo_path)\n",
        "\n",
        "class_path = '/content/class.csv'\n",
        "class_df = pd.read_csv(class_path)\n",
        "merged_df = pd.merge(zoo_df, class_df, how='inner', left_on='class_type',right_on='Class_Number')\n",
        "\n",
        "# Select relevant features and target variable\n",
        "#axis=1- Indicates that the operation is performed along columns\n",
        "features = merged_df.drop(['animal_name', 'class_type', 'Class_Number','Number_Of_Animal_Species_In_Class', 'Class_Type', 'Animal_Names'], axis=1)\n",
        "target = merged_df['Class_Type']\n",
        "\n",
        "# Split the dataset into training and testing sets\n",
        "X_train, X_test, y_train, y_test = train_test_split(features, target,\n",
        "test_size=0.2, random_state=42)\n",
        "# Initialize the Naive Bayes classifier\n",
        "naive_bayes_classifier = GaussianNB()\n",
        "\n",
        "# Train the classifier\n",
        "naive_bayes_classifier.fit(X_train, y_train)\n",
        "\n",
        "# Make predictions on the test set\n",
        "y_pred = naive_bayes_classifier.predict(X_test)\n",
        "\n",
        "# Evaluate the classifier's performance\n",
        "accuracy = accuracy_score(y_test, y_pred)\n",
        "print(f'Accuracy: {accuracy:.2f}')\n",
        "\n",
        "# Display classification report\n",
        "print('Classification Report:')\n",
        "print(classification_report(y_test, y_pred))"
      ],
      "metadata": {
        "colab": {
          "base_uri": "https://localhost:8080/"
        },
        "id": "j4UCnp4-2IBO",
        "outputId": "c064a554-6874-4170-c8ac-1493d60a0c2a"
      },
      "execution_count": null,
      "outputs": [
        {
          "output_type": "stream",
          "name": "stdout",
          "text": [
            "Accuracy: 0.95\n",
            "Classification Report:\n",
            "              precision    recall  f1-score   support\n",
            "\n",
            "   Amphibian       1.00      1.00      1.00         1\n",
            "        Bird       1.00      1.00      1.00         3\n",
            "         Bug       1.00      1.00      1.00         1\n",
            "        Fish       0.67      1.00      0.80         2\n",
            "Invertebrate       1.00      1.00      1.00         3\n",
            "      Mammal       1.00      1.00      1.00        10\n",
            "     Reptile       0.00      0.00      0.00         1\n",
            "\n",
            "    accuracy                           0.95        21\n",
            "   macro avg       0.81      0.86      0.83        21\n",
            "weighted avg       0.92      0.95      0.93        21\n",
            "\n"
          ]
        },
        {
          "output_type": "stream",
          "name": "stderr",
          "text": [
            "/usr/local/lib/python3.10/dist-packages/sklearn/metrics/_classification.py:1344: UndefinedMetricWarning: Precision and F-score are ill-defined and being set to 0.0 in labels with no predicted samples. Use `zero_division` parameter to control this behavior.\n",
            "  _warn_prf(average, modifier, msg_start, len(result))\n",
            "/usr/local/lib/python3.10/dist-packages/sklearn/metrics/_classification.py:1344: UndefinedMetricWarning: Precision and F-score are ill-defined and being set to 0.0 in labels with no predicted samples. Use `zero_division` parameter to control this behavior.\n",
            "  _warn_prf(average, modifier, msg_start, len(result))\n",
            "/usr/local/lib/python3.10/dist-packages/sklearn/metrics/_classification.py:1344: UndefinedMetricWarning: Precision and F-score are ill-defined and being set to 0.0 in labels with no predicted samples. Use `zero_division` parameter to control this behavior.\n",
            "  _warn_prf(average, modifier, msg_start, len(result))\n"
          ]
        }
      ]
    },
    {
      "cell_type": "code",
      "source": [
        "import pandas as pd\n",
        "from sklearn.naive_bayes import GaussianNB\n",
        "new_instance = pd.DataFrame({\n",
        "    'hair': 1,\n",
        "    'feathers': 0,\n",
        "    'eggs': 1,\n",
        "    'milk': 0,\n",
        "    'airborne': 0,\n",
        "    'aquatic': 1,\n",
        "    'predator': 1,\n",
        "    'toothed': 1,\n",
        "    'backbone': 1,\n",
        "    'breathes': 1,\n",
        "    'venomous': 0,\n",
        "    'fins': 1,\n",
        "    'legs': 4,\n",
        "    'tail': 1,\n",
        "    'domestic': 0,\n",
        "    'catsize': 1\n",
        "}, index=[0])\n",
        "\n",
        "predicted_label = naive_bayes_classifier.predict(new_instance)\n",
        "\n",
        "print(f'Predicted Label: {predicted_label[0]}')\n"
      ],
      "metadata": {
        "colab": {
          "base_uri": "https://localhost:8080/"
        },
        "id": "Ac8yNGhR4lXL",
        "outputId": "745dba06-8c06-48ec-c899-9313920a168c"
      },
      "execution_count": null,
      "outputs": [
        {
          "output_type": "stream",
          "name": "stdout",
          "text": [
            "Predicted Label: Mammal\n"
          ]
        }
      ]
    },
    {
      "cell_type": "code",
      "source": [
        "#Heart attack classification"
      ],
      "metadata": {
        "id": "Rk6c0vZApii-"
      },
      "execution_count": null,
      "outputs": []
    },
    {
      "cell_type": "code",
      "source": [
        "import pandas as pd\n",
        "from sklearn.model_selection import train_test_split\n",
        "from sklearn.naive_bayes import GaussianNB\n",
        "from sklearn.preprocessing import LabelEncoder\n",
        "from sklearn.metrics import accuracy_score, classification_report, confusion_matrix\n",
        "\n",
        "# Load your dataset\n",
        "data = pd.read_csv('/content/Heart Attack.csv')\n",
        "\n",
        "# Separate features (X) and target variable (y)\n",
        "X = data.drop('class', axis=1)\n",
        "y = data['class']\n",
        "'''\n",
        "# Label encode the 'gender' column\n",
        "label_encoder = LabelEncoder()\n",
        "X['gender'] = label_encoder.fit_transform(X['gender'])\n",
        "'''\n",
        "\n",
        "# Split the dataset into training and testing sets\n",
        "X_train, X_test, y_train, y_test = train_test_split(X, y, test_size=0.2, random_state=42)\n",
        "\n",
        "# Initialize the Naive Bayes classifier\n",
        "naive_bayes_model = GaussianNB()\n",
        "\n",
        "# Train the model\n",
        "naive_bayes_model.fit(X_train, y_train)\n",
        "# Make predictions on the test set\n",
        "y_pred = naive_bayes_model.predict(X_test)\n",
        "\n",
        "# Evaluate the model\n",
        "accuracy = accuracy_score(y_test, y_pred)\n",
        "conf_matrix = confusion_matrix(y_test, y_pred)\n",
        "classification_rep = classification_report(y_test, y_pred)\n",
        "\n",
        "# Display the results\n",
        "print(f\"Accuracy: {accuracy:.2f}\")\n",
        "print(\"\\nConfusion Matrix:\")\n",
        "print(conf_matrix)\n",
        "print(\"\\nClassification Report:\")\n",
        "print(classification_rep)\n"
      ],
      "metadata": {
        "colab": {
          "base_uri": "https://localhost:8080/"
        },
        "id": "QMnj2zofpOh5",
        "outputId": "616d66d6-631b-4396-fb61-a36c59670e67"
      },
      "execution_count": null,
      "outputs": [
        {
          "output_type": "stream",
          "name": "stdout",
          "text": [
            "Accuracy: 0.79\n",
            "\n",
            "Confusion Matrix:\n",
            "[[100   1]\n",
            " [ 55 108]]\n",
            "\n",
            "Classification Report:\n",
            "              precision    recall  f1-score   support\n",
            "\n",
            "    negative       0.65      0.99      0.78       101\n",
            "    positive       0.99      0.66      0.79       163\n",
            "\n",
            "    accuracy                           0.79       264\n",
            "   macro avg       0.82      0.83      0.79       264\n",
            "weighted avg       0.86      0.79      0.79       264\n",
            "\n"
          ]
        }
      ]
    },
    {
      "cell_type": "code",
      "source": [
        "import pandas as pd\n",
        "from sklearn.naive_bayes import GaussianNB\n",
        "new_instance = pd.DataFrame({\n",
        "    'age': 50,\n",
        "    'gender': \"1\",\n",
        "    'impluse': 100,\n",
        "    'pressurehight': 90,\n",
        "    'pressurelow': 83,\n",
        "    'glucose': 1,\n",
        "    'kcm': 1.2,\n",
        "    'troponin': 0.002,\n",
        "}, index=[0])\n",
        "\n",
        "predicted_label = naive_bayes_model.predict(new_instance)\n",
        "\n",
        "print(f'Predicted Label: {predicted_label[0]}')"
      ],
      "metadata": {
        "colab": {
          "base_uri": "https://localhost:8080/"
        },
        "id": "5VHXSaxarTm9",
        "outputId": "407c3304-a48d-4b9d-d10a-54fbc445d7a9"
      },
      "execution_count": null,
      "outputs": [
        {
          "output_type": "stream",
          "name": "stdout",
          "text": [
            "Predicted Label: negative\n"
          ]
        }
      ]
    },
    {
      "cell_type": "code",
      "source": [
        "#Zoo animal classification"
      ],
      "metadata": {
        "id": "KEe1JP7BpQfW"
      },
      "execution_count": null,
      "outputs": []
    },
    {
      "cell_type": "code",
      "source": [
        "import pandas as pd\n",
        "from sklearn.model_selection import train_test_split, GridSearchCV\n",
        "from sklearn.naive_bayes import GaussianNB\n",
        "from sklearn.metrics import accuracy_score, classification_report\n",
        "\n",
        "# Load the \"class\" and \"zoo\" datasets\n",
        "zoo_path = '/content/zoo.csv'\n",
        "zoo_df = pd.read_csv(zoo_path)\n",
        "\n",
        "class_path = '/content/class.csv'\n",
        "class_df = pd.read_csv(class_path)\n",
        "merged_df = pd.merge(zoo_df, class_df, how='inner', left_on='class_type', right_on='Class_Number')\n",
        "\n",
        "# Select relevant features and target variable\n",
        "features = merged_df.drop(['animal_name', 'class_type', 'Class_Number', 'Number_Of_Animal_Species_In_Class', 'Class_Type', 'Animal_Names'], axis=1)\n",
        "target = merged_df['Class_Type']\n",
        "\n",
        "# Split the dataset into training and testing sets\n",
        "X_train, X_test, y_train, y_test = train_test_split(features, target, test_size=0.2, random_state=42)\n",
        "\n",
        "# Initialize the Naive Bayes classifier\n",
        "naive_bayes_classifier = GaussianNB()\n",
        "\n",
        "# Define the parameter grid for GridSearchCV\n",
        "param_grid = {\n",
        "    'var_smoothing': [1e-9, 1e-8, 1e-7, 1e-6, 1e-5]\n",
        "}\n",
        "\n",
        "# Initialize GridSearchCV\n",
        "grid_search = GridSearchCV(naive_bayes_classifier, param_grid, cv=5, scoring='accuracy')\n",
        "\n",
        "# Perform grid search on the training data\n",
        "grid_search.fit(X_train, y_train)\n",
        "\n",
        "# Print the best parameters found by GridSearchCV\n",
        "print(\"Best Parameters:\", grid_search.best_params_)\n",
        "\n",
        "# Get the best estimator from grid search\n",
        "best_naive_bayes_classifier = grid_search.best_estimator_\n",
        "\n",
        "# Make predictions on the test set using the best classifier\n",
        "y_pred = best_naive_bayes_classifier.predict(X_test)\n",
        "\n",
        "# Evaluate the classifier's performance\n",
        "accuracy = accuracy_score(y_test, y_pred)\n",
        "print(f'Accuracy: {accuracy:.2f}')\n",
        "\n",
        "# Display classification report\n",
        "print('Classification Report:')\n",
        "print(classification_report(y_test, y_pred))\n"
      ],
      "metadata": {
        "colab": {
          "base_uri": "https://localhost:8080/"
        },
        "id": "V9MCR0jtEYFu",
        "outputId": "10c48931-7c91-476f-d650-fc53efe4f0ce"
      },
      "execution_count": null,
      "outputs": [
        {
          "output_type": "stream",
          "name": "stdout",
          "text": [
            "Best Parameters: {'var_smoothing': 1e-09}\n",
            "Accuracy: 0.95\n",
            "Classification Report:\n",
            "              precision    recall  f1-score   support\n",
            "\n",
            "   Amphibian       1.00      1.00      1.00         1\n",
            "        Bird       1.00      1.00      1.00         3\n",
            "         Bug       1.00      1.00      1.00         1\n",
            "        Fish       0.67      1.00      0.80         2\n",
            "Invertebrate       1.00      1.00      1.00         3\n",
            "      Mammal       1.00      1.00      1.00        10\n",
            "     Reptile       0.00      0.00      0.00         1\n",
            "\n",
            "    accuracy                           0.95        21\n",
            "   macro avg       0.81      0.86      0.83        21\n",
            "weighted avg       0.92      0.95      0.93        21\n",
            "\n"
          ]
        },
        {
          "output_type": "stream",
          "name": "stderr",
          "text": [
            "/usr/local/lib/python3.10/dist-packages/sklearn/model_selection/_split.py:700: UserWarning: The least populated class in y has only 3 members, which is less than n_splits=5.\n",
            "  warnings.warn(\n",
            "/usr/local/lib/python3.10/dist-packages/sklearn/metrics/_classification.py:1344: UndefinedMetricWarning: Precision and F-score are ill-defined and being set to 0.0 in labels with no predicted samples. Use `zero_division` parameter to control this behavior.\n",
            "  _warn_prf(average, modifier, msg_start, len(result))\n",
            "/usr/local/lib/python3.10/dist-packages/sklearn/metrics/_classification.py:1344: UndefinedMetricWarning: Precision and F-score are ill-defined and being set to 0.0 in labels with no predicted samples. Use `zero_division` parameter to control this behavior.\n",
            "  _warn_prf(average, modifier, msg_start, len(result))\n",
            "/usr/local/lib/python3.10/dist-packages/sklearn/metrics/_classification.py:1344: UndefinedMetricWarning: Precision and F-score are ill-defined and being set to 0.0 in labels with no predicted samples. Use `zero_division` parameter to control this behavior.\n",
            "  _warn_prf(average, modifier, msg_start, len(result))\n"
          ]
        }
      ]
    }
  ]
}